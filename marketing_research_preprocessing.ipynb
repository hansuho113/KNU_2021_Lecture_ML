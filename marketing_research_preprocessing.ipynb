{
 "cells": [
  {
   "cell_type": "code",
   "execution_count": 116,
   "metadata": {},
   "outputs": [],
   "source": [
    "import pandas as pd\n",
    "import numpy as np\n",
    "from sklearn.preprocessing import LabelEncoder\n",
    "\n",
    "pd.set_option('display.max_columns', 500)"
   ]
  },
  {
   "cell_type": "code",
   "execution_count": 420,
   "metadata": {},
   "outputs": [],
   "source": [
    "df = pd.read_csv(\"/Users/hansuho/Desktop/21-1 KNU/학교 수업/마케팅리서치/기말발표/폴더블_열이름변경/시트 1-폴더블 아이폰 6조.csv\")\n",
    "df.drop(columns='타임스탬프', inplace=True)\n",
    "df = df.iloc[:, :-1]    # 휴대폰 번호 열 삭제\n",
    "df.drop(index=12, inplace=True)    # 샤오미 홍미노트 행 삭제\n",
    "df.reset_index(inplace=True)\n",
    "df.drop(columns = 'index', inplace=True)"
   ]
  },
  {
   "cell_type": "code",
   "execution_count": 421,
   "metadata": {},
   "outputs": [
    {
     "name": "stdout",
     "output_type": "stream",
     "text": [
      "['7 (매우 그렇다.)' '4 (보통이다.)' '3' '6' '5' '2']\n",
      "['7    (매우 그렇다)' '4    (보통이다)' '6' '5' '3' '1    (전혀 그렇지 않다)']\n"
     ]
    }
   ],
   "source": [
    "# 7점 척도 데이터 범주 확인\n",
    "print(df.iloc[:, 7].unique())\n",
    "print(df.iloc[:, 12].unique())"
   ]
  },
  {
   "cell_type": "code",
   "execution_count": 422,
   "metadata": {},
   "outputs": [],
   "source": [
    "score_dict = {\"7 (매우 그렇다.)\": 7, \"7    (매우 그렇다)\": 7,\n",
    "              \"6\":6,\n",
    "              \"5\":5,\n",
    "              \"4 (보통이다.)\":4, \"4    (보통이다)\":4,\n",
    "              \"3\":3,\n",
    "              \"2\":2,\n",
    "              \"1 (전혀 그렇지 않다.)\":1, \"1    (전혀 그렇지 않다)\":1}\n",
    "\n",
    "likert7_cols = df.iloc[:, 6:18].columns.tolist()\n",
    "\n",
    "for col in likert7_cols:\n",
    "    tmp = []\n",
    "    for item in df[col]:\n",
    "        tmp.append(score_dict[item])\n",
    "    df[col] = tmp\n",
    "\n",
    "    \n",
    "# 애플: 0, 삼성: 1\n",
    "df['Manufacturer'] = [0 if x == \"애플\" else 1 for x in df['Manufacturer']]    \n",
    "\n",
    "\n",
    "# 아이폰 시리즈에 se, xs 포함\n",
    "for idx, item in enumerate(df['phone_series']):    \n",
    "    if item == 'apple 아이폰 xs': df.iloc[idx, 3] = \"애플 시리즈 (아이폰 12, 11 시리즈 등)\"\n",
    "    elif item == '아이폰se2': df.iloc[idx, 3] = \"애플 시리즈 (아이폰 12, 11 시리즈 등)\"\n",
    "        \n",
    "\n",
    "# 점수 변환\n",
    "category_dict = {\"6개월 미만\": 0, '애플 시리즈 (아이폰 12, 11 시리즈 등)': 0, '애플의 폴더블폰': 0, '남성': 0,\n",
    "               \"6개월 ~ 1년 미만\": 1, '삼성 폴더블폰 (Z-Fold 시리즈, Z-Flip 시리즈 등)': 1, '매우 불만족': 1,\n",
    "               '전혀 그렇지 않다.': 1, '구입할 의향이 전혀 없다.': 1, '삼성의 Z-플립': 1, '여성': 1,\n",
    "                 \n",
    "               \"1년 ~ 1년 6개월 미만\": 2, '삼성 갤럭시 시리즈 (S 시리즈, Note 시리즈 등)': 2, '불만족': 2, '그렇지 않다.': 2, '구입할 의향이 없다.': 2,\n",
    "               \"1년 6개월 ~ 2년 미만\": 3, 'LG (윙, V, Q 시리즈 등)': 3, '보통': 3, '보통이다.':3,\n",
    "               \"2년 이상\": 4, '만족': 4, '그렇다.': 4, '구입할 의향이 있다.': 4,\n",
    "               '매우 만족': 5, '매우 그렇다.': 5, '구입할 의향이 매우 있다.': 5}\n",
    "\n",
    "categorical_cols = ['using_period', 'proper_change_period', 'phone_series', 'brand_satisfying', 'fordable_intension',\n",
    "                    'intension_135', 'intension_155', 'intension_175', 'appford_flip', 'gender']\n",
    "\n",
    "for col in categorical_cols:\n",
    "    tmp = []\n",
    "    for item in df[col]:\n",
    "        tmp.append(category_dict[item])\n",
    "    df[col] =tmp\n",
    "\n",
    "\n",
    "# 디자인 특성 및 브랜드 충성도 평균 점수 산출\n",
    "df['design_feature'] = round(((df['design_v1'] +df['design_v2'] + df['design_v3'] + df['design_v4'] + df['design_v5'] + df['design_v6']) / 6), 1)\n",
    "df['brand_loyalty'] = round(((df['loyalty_v1'] +df['loyalty_v2'] + df['loyalty_v3'] + df['loyalty_v4'] + df['loyalty_v5'] + df['loyalty_v6']) / 6), 1)\n",
    "\n",
    "# 디자인 특성, 브랜드 충성도 하위 질문 \n",
    "df.drop(columns=['design_v1', 'design_v2', 'design_v3', 'design_v4', 'design_v5', 'design_v6',\n",
    "                 'loyalty_v1', 'loyalty_v2', 'loyalty_v3', 'loyalty_v4', 'loyalty_v5', 'loyalty_v6'], inplace=True)\n",
    "\n",
    "# 동일 브랜드 기기 사용 개수 전처리\n",
    "df.same_brand_item.fillna(\"0개\", inplace=True)\n",
    "df.same_brand_item = [int(x[:1]) for x in df.same_brand_item]"
   ]
  },
  {
   "cell_type": "code",
   "execution_count": 353,
   "metadata": {},
   "outputs": [],
   "source": [
    "# df.to_csv(\"/Users/hansuho/Desktop/21-1 KNU/학교 수업/마케팅리서치/기말발표/폴더블_열이름변경/preprocessed_data.csv\", index=False)"
   ]
  },
  {
   "cell_type": "code",
   "execution_count": 423,
   "metadata": {},
   "outputs": [
    {
     "data": {
      "text/html": [
       "<div>\n",
       "<style scoped>\n",
       "    .dataframe tbody tr th:only-of-type {\n",
       "        vertical-align: middle;\n",
       "    }\n",
       "\n",
       "    .dataframe tbody tr th {\n",
       "        vertical-align: top;\n",
       "    }\n",
       "\n",
       "    .dataframe thead th {\n",
       "        text-align: right;\n",
       "    }\n",
       "</style>\n",
       "<table border=\"1\" class=\"dataframe\">\n",
       "  <thead>\n",
       "    <tr style=\"text-align: right;\">\n",
       "      <th></th>\n",
       "      <th>Manufacturer</th>\n",
       "      <th>using_period</th>\n",
       "      <th>proper_change_period</th>\n",
       "      <th>phone_series</th>\n",
       "      <th>brand_satisfying</th>\n",
       "      <th>satisfying_factor</th>\n",
       "      <th>purchase_reason</th>\n",
       "      <th>same_brand_item</th>\n",
       "      <th>channels</th>\n",
       "      <th>online_channel</th>\n",
       "      <th>online_reason</th>\n",
       "      <th>offline_channel</th>\n",
       "      <th>offline_channel.1</th>\n",
       "      <th>fordable_intension</th>\n",
       "      <th>intension_135</th>\n",
       "      <th>intension_155</th>\n",
       "      <th>intension_175</th>\n",
       "      <th>appford_flip</th>\n",
       "      <th>gender</th>\n",
       "      <th>age</th>\n",
       "      <th>design_feature</th>\n",
       "      <th>brand_loyalty</th>\n",
       "    </tr>\n",
       "  </thead>\n",
       "  <tbody>\n",
       "    <tr>\n",
       "      <th>0</th>\n",
       "      <td>0</td>\n",
       "      <td>1</td>\n",
       "      <td>3</td>\n",
       "      <td>0</td>\n",
       "      <td>5</td>\n",
       "      <td>사용 편의성</td>\n",
       "      <td>주변 IT 기기와의 호환성 (7-1번 질문으로 이동하십시오)</td>\n",
       "      <td>4</td>\n",
       "      <td>오프라인 (10번 질문으로 이동하십시오)</td>\n",
       "      <td>NaN</td>\n",
       "      <td>NaN</td>\n",
       "      <td>이마트(일렉트로마트)</td>\n",
       "      <td>편리성</td>\n",
       "      <td>5</td>\n",
       "      <td>5</td>\n",
       "      <td>4</td>\n",
       "      <td>2</td>\n",
       "      <td>0</td>\n",
       "      <td>0</td>\n",
       "      <td>20대</td>\n",
       "      <td>6.5</td>\n",
       "      <td>7.0</td>\n",
       "    </tr>\n",
       "    <tr>\n",
       "      <th>1</th>\n",
       "      <td>0</td>\n",
       "      <td>1</td>\n",
       "      <td>4</td>\n",
       "      <td>0</td>\n",
       "      <td>5</td>\n",
       "      <td>디자인</td>\n",
       "      <td>성능</td>\n",
       "      <td>0</td>\n",
       "      <td>온라인 (9번 질문으로 이동하십시오)</td>\n",
       "      <td>중고나라</td>\n",
       "      <td>가격</td>\n",
       "      <td>NaN</td>\n",
       "      <td>NaN</td>\n",
       "      <td>3</td>\n",
       "      <td>1</td>\n",
       "      <td>1</td>\n",
       "      <td>1</td>\n",
       "      <td>0</td>\n",
       "      <td>0</td>\n",
       "      <td>20대</td>\n",
       "      <td>6.5</td>\n",
       "      <td>6.8</td>\n",
       "    </tr>\n",
       "  </tbody>\n",
       "</table>\n",
       "</div>"
      ],
      "text/plain": [
       "   Manufacturer  using_period  proper_change_period  phone_series  \\\n",
       "0             0             1                     3             0   \n",
       "1             0             1                     4             0   \n",
       "\n",
       "   brand_satisfying satisfying_factor                    purchase_reason  \\\n",
       "0                 5            사용 편의성  주변 IT 기기와의 호환성 (7-1번 질문으로 이동하십시오)   \n",
       "1                 5               디자인                                 성능   \n",
       "\n",
       "   same_brand_item                channels online_channel online_reason  \\\n",
       "0                4  오프라인 (10번 질문으로 이동하십시오)            NaN           NaN   \n",
       "1                0    온라인 (9번 질문으로 이동하십시오)           중고나라            가격   \n",
       "\n",
       "  offline_channel offline_channel.1  fordable_intension  intension_135  \\\n",
       "0     이마트(일렉트로마트)               편리성                   5              5   \n",
       "1             NaN               NaN                   3              1   \n",
       "\n",
       "   intension_155  intension_175  appford_flip  gender  age  design_feature  \\\n",
       "0              4              2             0       0  20대             6.5   \n",
       "1              1              1             0       0  20대             6.5   \n",
       "\n",
       "   brand_loyalty  \n",
       "0            7.0  \n",
       "1            6.8  "
      ]
     },
     "execution_count": 423,
     "metadata": {},
     "output_type": "execute_result"
    }
   ],
   "source": [
    "df.head(2)"
   ]
  },
  {
   "cell_type": "code",
   "execution_count": 531,
   "metadata": {},
   "outputs": [],
   "source": [
    "# # 독립표본 t-검정\n",
    "# from scipy import stats\n",
    "\n",
    "# # 변수 생성\n",
    "# apple = df[df['Manufacturer'] == 0]\n",
    "# samsung = df[df['Manufacturer'] == 1]\n",
    "\n",
    "# apple.reset_index(inplace=True)\n",
    "# apple.drop(columns = 'index', inplace=True)\n",
    "# samsung.reset_index(inplace=True)\n",
    "# samsung.drop(columns = 'index', inplace=True)\n",
    "\n",
    "# #제조사의 등분산 검정 \n",
    "# manufacturer_result = stats.levene(apple['brand_loyalty'], samsung['brand_loyalty'])\n",
    "# print('LeveneResult(F) : %.3f \\np-value : %.3f' % (manufacturer_result))"
   ]
  },
  {
   "cell_type": "code",
   "execution_count": 356,
   "metadata": {},
   "outputs": [
    {
     "name": "stdout",
     "output_type": "stream",
     "text": [
      "t statistic : 0.816 \n",
      "p-value : 0.417\n"
     ]
    }
   ],
   "source": [
    "result = stats.ttest_ind(apple['brand_loyalty'], samsung['brand_loyalty'], equal_var=True) \n",
    "print('t statistic : %.3f \\np-value : %.3f' % (result))"
   ]
  },
  {
   "cell_type": "code",
   "execution_count": null,
   "metadata": {},
   "outputs": [],
   "source": []
  },
  {
   "cell_type": "code",
   "execution_count": 357,
   "metadata": {},
   "outputs": [
    {
     "name": "stdout",
     "output_type": "stream",
     "text": [
      "\n",
      "Apple 사용자들의 평균 브랜드 충성도: 5.494736842105263\n",
      "Samsung 사용자들의 평균 브랜드 충성도: 5.228571428571429\n",
      "\n",
      "Apple 사용자들의 평균 디자인 특성: 5.544736842105263\n",
      "Samsung 사용자들의 평균 디자인 특성: 4.353571428571429\n",
      "\n"
     ]
    }
   ],
   "source": [
    "apple_mean_loyalty = apple['brand_loyalty'].mean()\n",
    "samsung_mean_loyalty = samsung['brand_loyalty'].mean()\n",
    "\n",
    "apple_mean_design = apple['design_feature'].mean()\n",
    "samsung_mean_design = samsung['design_feature'].mean()\n",
    "\n",
    "print(f\"\"\"\n",
    "Apple 사용자들의 평균 브랜드 충성도: {apple_mean_loyalty}\n",
    "Samsung 사용자들의 평균 브랜드 충성도: {samsung_mean_loyalty}\n",
    "\n",
    "Apple 사용자들의 평균 디자인 특성: {apple_mean_design}\n",
    "Samsung 사용자들의 평균 디자인 특성: {samsung_mean_design}\n",
    "\"\"\")"
   ]
  },
  {
   "cell_type": "code",
   "execution_count": null,
   "metadata": {},
   "outputs": [],
   "source": []
  },
  {
   "cell_type": "code",
   "execution_count": null,
   "metadata": {},
   "outputs": [],
   "source": []
  },
  {
   "cell_type": "code",
   "execution_count": 424,
   "metadata": {},
   "outputs": [],
   "source": [
    "its_df = df[['Manufacturer', 'fordable_intension', 'intension_135', 'intension_155', 'intension_175', 'appford_flip']]"
   ]
  },
  {
   "cell_type": "code",
   "execution_count": 425,
   "metadata": {},
   "outputs": [
    {
     "data": {
      "text/html": [
       "<div>\n",
       "<style scoped>\n",
       "    .dataframe tbody tr th:only-of-type {\n",
       "        vertical-align: middle;\n",
       "    }\n",
       "\n",
       "    .dataframe tbody tr th {\n",
       "        vertical-align: top;\n",
       "    }\n",
       "\n",
       "    .dataframe thead th {\n",
       "        text-align: right;\n",
       "    }\n",
       "</style>\n",
       "<table border=\"1\" class=\"dataframe\">\n",
       "  <thead>\n",
       "    <tr style=\"text-align: right;\">\n",
       "      <th></th>\n",
       "      <th>Manufacturer</th>\n",
       "      <th>fordable_intension</th>\n",
       "      <th>intension_135</th>\n",
       "      <th>intension_155</th>\n",
       "      <th>intension_175</th>\n",
       "      <th>appford_flip</th>\n",
       "    </tr>\n",
       "  </thead>\n",
       "  <tbody>\n",
       "    <tr>\n",
       "      <th>0</th>\n",
       "      <td>0</td>\n",
       "      <td>5</td>\n",
       "      <td>5</td>\n",
       "      <td>4</td>\n",
       "      <td>2</td>\n",
       "      <td>0</td>\n",
       "    </tr>\n",
       "    <tr>\n",
       "      <th>1</th>\n",
       "      <td>0</td>\n",
       "      <td>3</td>\n",
       "      <td>1</td>\n",
       "      <td>1</td>\n",
       "      <td>1</td>\n",
       "      <td>0</td>\n",
       "    </tr>\n",
       "    <tr>\n",
       "      <th>2</th>\n",
       "      <td>1</td>\n",
       "      <td>1</td>\n",
       "      <td>1</td>\n",
       "      <td>1</td>\n",
       "      <td>1</td>\n",
       "      <td>1</td>\n",
       "    </tr>\n",
       "    <tr>\n",
       "      <th>3</th>\n",
       "      <td>1</td>\n",
       "      <td>1</td>\n",
       "      <td>1</td>\n",
       "      <td>1</td>\n",
       "      <td>1</td>\n",
       "      <td>1</td>\n",
       "    </tr>\n",
       "    <tr>\n",
       "      <th>4</th>\n",
       "      <td>0</td>\n",
       "      <td>3</td>\n",
       "      <td>2</td>\n",
       "      <td>2</td>\n",
       "      <td>1</td>\n",
       "      <td>0</td>\n",
       "    </tr>\n",
       "  </tbody>\n",
       "</table>\n",
       "</div>"
      ],
      "text/plain": [
       "   Manufacturer  fordable_intension  intension_135  intension_155  \\\n",
       "0             0                   5              5              4   \n",
       "1             0                   3              1              1   \n",
       "2             1                   1              1              1   \n",
       "3             1                   1              1              1   \n",
       "4             0                   3              2              2   \n",
       "\n",
       "   intension_175  appford_flip  \n",
       "0              2             0  \n",
       "1              1             0  \n",
       "2              1             1  \n",
       "3              1             1  \n",
       "4              1             0  "
      ]
     },
     "execution_count": 425,
     "metadata": {},
     "output_type": "execute_result"
    }
   ],
   "source": [
    "its_df.head()"
   ]
  },
  {
   "cell_type": "code",
   "execution_count": 426,
   "metadata": {},
   "outputs": [],
   "source": [
    "its_df_a = its_df[its_df['Manufacturer'] == 0]\n",
    "its_df_s = its_df[its_df['Manufacturer'] == 1]"
   ]
  },
  {
   "cell_type": "code",
   "execution_count": 427,
   "metadata": {},
   "outputs": [
    {
     "data": {
      "text/plain": [
       "Counter({1: 15, 2: 4, 3: 4, 4: 3, 5: 2})"
      ]
     },
     "execution_count": 427,
     "metadata": {},
     "output_type": "execute_result"
    }
   ],
   "source": [
    "import matplotlib.pyplot as plt\n",
    "import collections\n",
    "\n",
    "fordable_intension_a = collections.Counter(its_df_a['fordable_intension'])\n",
    "fordable_intension_s = collections.Counter(its_df_s['fordable_intension'])\n",
    "fordable_intension_s"
   ]
  },
  {
   "cell_type": "code",
   "execution_count": 428,
   "metadata": {},
   "outputs": [
    {
     "data": {
      "image/png": "[encoded data removed]",
      "text/plain": [
       "<Figure size 432x288 with 1 Axes>"
      ]
     },
     "metadata": {
      "needs_background": "light"
     },
     "output_type": "display_data"
    },
    {
     "data": {
      "image/png": "[encoded data removed]",
      "text/plain": [
       "<Figure size 432x288 with 1 Axes>"
      ]
     },
     "metadata": {
      "needs_background": "light"
     },
     "output_type": "display_data"
    }
   ],
   "source": [
    "a = np.arange(5)\n",
    "scale = [1, 2, 3, 4, 5]\n",
    "\n",
    "value_a = [11, 6, 13, 4, 4]\n",
    "value_s = [15, 4, 4, 3, 2]\n",
    "\n",
    "plt.bar(a, value_a)\n",
    "plt.xticks(a, scale)\n",
    "plt.yticks(np.arange(0, 16, 3))\n",
    "plt.title(\"Apple User's folderble Iphone purchase intension\")\n",
    "plt.show()\n",
    "\n",
    "plt.bar(s, value_s)\n",
    "plt.xticks(s, scale)\n",
    "plt.yticks(np.arange(0, 16, 3))\n",
    "plt.title(\"Samsung User's folderble Iphone purchase intension\")\n",
    "plt.show()"
   ]
  },
  {
   "cell_type": "code",
   "execution_count": 429,
   "metadata": {},
   "outputs": [
    {
     "data": {
      "text/plain": [
       "(Counter({2: 2, 1: 30, 3: 6}), Counter({1: 23, 2: 3, 5: 2}))"
      ]
     },
     "execution_count": 429,
     "metadata": {},
     "output_type": "execute_result"
    }
   ],
   "source": [
    "intension_a_175 = collections.Counter(its_df_a['intension_175'])\n",
    "intension_s_175 = collections.Counter(its_df_s['intension_175'])\n",
    "intension_a_175, intension_s_175"
   ]
  },
  {
   "cell_type": "code",
   "execution_count": 430,
   "metadata": {},
   "outputs": [
    {
     "data": {
      "image/png": "[encoded data removed]",
      "text/plain": [
       "<Figure size 432x288 with 1 Axes>"
      ]
     },
     "metadata": {
      "needs_background": "light"
     },
     "output_type": "display_data"
    }
   ],
   "source": [
    "a = np.arange(5)\n",
    "value_a = [30, 2, 6, 0, 0]\n",
    "scale_a = [1, 2, 3, 4, 5]\n",
    "\n",
    "\n",
    "plt.bar(a, value_a)\n",
    "plt.xticks(a, scale_a)\n",
    "plt.yticks(np.arange(0, 31, 5))\n",
    "plt.title(\"Apple User's foldarble phone purchase intension (175-195)\")\n",
    "plt.show()"
   ]
  },
  {
   "cell_type": "code",
   "execution_count": 431,
   "metadata": {},
   "outputs": [
    {
     "data": {
      "text/plain": [
       "(Counter({'편리성': 18,\n",
       "          nan: 17,\n",
       "          '제품 실물을 확인하기 위해서': 13,\n",
       "          '구매 보조금': 11,\n",
       "          '가격을 더깍을수있어서': 1,\n",
       "          '개인사정': 1,\n",
       "          '아버지가 직원이셔서..': 1,\n",
       "          '얼떨결에...': 1,\n",
       "          '사은품': 2,\n",
       "          '싼 가격': 1}),\n",
       " Counter({nan: 46,\n",
       "          '가격': 1,\n",
       "          '자급제 사용을 위해서': 9,\n",
       "          '편리성': 4,\n",
       "          '온라인 사전예약을 위해서 (9번 질문으로 이동하십시오)': 1,\n",
       "          '온라인 사전예약을 위해서': 4,\n",
       "          '가격할인': 1}))"
      ]
     },
     "execution_count": 431,
     "metadata": {},
     "output_type": "execute_result"
    }
   ],
   "source": [
    "offline_reasons = collections.Counter(df['offline_channel.1'])\n",
    "online_reasons = collections.Counter(df['online_reason'])\n",
    "offline_reasons, online_reasons"
   ]
  },
  {
   "cell_type": "code",
   "execution_count": 432,
   "metadata": {},
   "outputs": [
    {
     "data": {
      "image/png": "[encoded data removed]",
      "text/plain": [
       "<Figure size 432x288 with 1 Axes>"
      ]
     },
     "metadata": {
      "needs_background": "light"
     },
     "output_type": "display_data"
    }
   ],
   "source": [
    "collections.Counter(df.fordable_intension)\n",
    "\n",
    "a = np.arange(5)\n",
    "scale = [1,2,3,4,5]\n",
    "values = [26, 10, 17, 7, 6]\n",
    "\n",
    "plt.bar(a, values)\n",
    "plt.xticks(a, scale)\n",
    "plt.show()"
   ]
  },
  {
   "cell_type": "code",
   "execution_count": 433,
   "metadata": {},
   "outputs": [
    {
     "data": {
      "text/plain": [
       "(2.3484848484848486, 2.196969696969697, 1.6818181818181819, 1.378787878787879)"
      ]
     },
     "execution_count": 433,
     "metadata": {},
     "output_type": "execute_result"
    }
   ],
   "source": [
    "df.fordable_intension.mean(),df.intension_135.mean(), df.intension_155.mean(), df.intension_175.mean()"
   ]
  },
  {
   "cell_type": "code",
   "execution_count": 434,
   "metadata": {},
   "outputs": [
    {
     "data": {
      "text/plain": [
       "(3.6333333333333333, 3.066666666666667, 2.3, 1.6)"
      ]
     },
     "execution_count": 434,
     "metadata": {},
     "output_type": "execute_result"
    }
   ],
   "source": [
    "intension_upper3 = df[df['fordable_intension']>=3]\n",
    "intension_upper3.fordable_intension.mean(),intension_upper3.intension_135.mean(), intension_upper3.intension_155.mean(), intension_upper3.intension_175.mean()"
   ]
  },
  {
   "cell_type": "code",
   "execution_count": 435,
   "metadata": {},
   "outputs": [
    {
     "data": {
      "text/html": [
       "<div>\n",
       "<style scoped>\n",
       "    .dataframe tbody tr th:only-of-type {\n",
       "        vertical-align: middle;\n",
       "    }\n",
       "\n",
       "    .dataframe tbody tr th {\n",
       "        vertical-align: top;\n",
       "    }\n",
       "\n",
       "    .dataframe thead th {\n",
       "        text-align: right;\n",
       "    }\n",
       "</style>\n",
       "<table border=\"1\" class=\"dataframe\">\n",
       "  <thead>\n",
       "    <tr style=\"text-align: right;\">\n",
       "      <th></th>\n",
       "      <th>Manufacturer</th>\n",
       "      <th>using_period</th>\n",
       "      <th>proper_change_period</th>\n",
       "      <th>phone_series</th>\n",
       "      <th>brand_satisfying</th>\n",
       "      <th>satisfying_factor</th>\n",
       "      <th>purchase_reason</th>\n",
       "      <th>same_brand_item</th>\n",
       "      <th>channels</th>\n",
       "      <th>online_channel</th>\n",
       "      <th>online_reason</th>\n",
       "      <th>offline_channel</th>\n",
       "      <th>offline_channel.1</th>\n",
       "      <th>fordable_intension</th>\n",
       "      <th>intension_135</th>\n",
       "      <th>intension_155</th>\n",
       "      <th>intension_175</th>\n",
       "      <th>appford_flip</th>\n",
       "      <th>gender</th>\n",
       "      <th>age</th>\n",
       "      <th>design_feature</th>\n",
       "      <th>brand_loyalty</th>\n",
       "    </tr>\n",
       "  </thead>\n",
       "  <tbody>\n",
       "    <tr>\n",
       "      <th>0</th>\n",
       "      <td>0</td>\n",
       "      <td>1</td>\n",
       "      <td>3</td>\n",
       "      <td>0</td>\n",
       "      <td>5</td>\n",
       "      <td>사용 편의성</td>\n",
       "      <td>주변 IT 기기와의 호환성 (7-1번 질문으로 이동하십시오)</td>\n",
       "      <td>4</td>\n",
       "      <td>오프라인 (10번 질문으로 이동하십시오)</td>\n",
       "      <td>NaN</td>\n",
       "      <td>NaN</td>\n",
       "      <td>이마트(일렉트로마트)</td>\n",
       "      <td>편리성</td>\n",
       "      <td>5</td>\n",
       "      <td>5</td>\n",
       "      <td>4</td>\n",
       "      <td>2</td>\n",
       "      <td>0</td>\n",
       "      <td>0</td>\n",
       "      <td>20대</td>\n",
       "      <td>6.5</td>\n",
       "      <td>7.0</td>\n",
       "    </tr>\n",
       "    <tr>\n",
       "      <th>1</th>\n",
       "      <td>0</td>\n",
       "      <td>1</td>\n",
       "      <td>4</td>\n",
       "      <td>0</td>\n",
       "      <td>5</td>\n",
       "      <td>디자인</td>\n",
       "      <td>성능</td>\n",
       "      <td>0</td>\n",
       "      <td>온라인 (9번 질문으로 이동하십시오)</td>\n",
       "      <td>중고나라</td>\n",
       "      <td>가격</td>\n",
       "      <td>NaN</td>\n",
       "      <td>NaN</td>\n",
       "      <td>3</td>\n",
       "      <td>1</td>\n",
       "      <td>1</td>\n",
       "      <td>1</td>\n",
       "      <td>0</td>\n",
       "      <td>0</td>\n",
       "      <td>20대</td>\n",
       "      <td>6.5</td>\n",
       "      <td>6.8</td>\n",
       "    </tr>\n",
       "  </tbody>\n",
       "</table>\n",
       "</div>"
      ],
      "text/plain": [
       "   Manufacturer  using_period  proper_change_period  phone_series  \\\n",
       "0             0             1                     3             0   \n",
       "1             0             1                     4             0   \n",
       "\n",
       "   brand_satisfying satisfying_factor                    purchase_reason  \\\n",
       "0                 5            사용 편의성  주변 IT 기기와의 호환성 (7-1번 질문으로 이동하십시오)   \n",
       "1                 5               디자인                                 성능   \n",
       "\n",
       "   same_brand_item                channels online_channel online_reason  \\\n",
       "0                4  오프라인 (10번 질문으로 이동하십시오)            NaN           NaN   \n",
       "1                0    온라인 (9번 질문으로 이동하십시오)           중고나라            가격   \n",
       "\n",
       "  offline_channel offline_channel.1  fordable_intension  intension_135  \\\n",
       "0     이마트(일렉트로마트)               편리성                   5              5   \n",
       "1             NaN               NaN                   3              1   \n",
       "\n",
       "   intension_155  intension_175  appford_flip  gender  age  design_feature  \\\n",
       "0              4              2             0       0  20대             6.5   \n",
       "1              1              1             0       0  20대             6.5   \n",
       "\n",
       "   brand_loyalty  \n",
       "0            7.0  \n",
       "1            6.8  "
      ]
     },
     "execution_count": 435,
     "metadata": {},
     "output_type": "execute_result"
    }
   ],
   "source": [
    "# 폴더블 구매의사 3점 이상\n",
    "\n",
    "intension_upper3.head(2)"
   ]
  },
  {
   "cell_type": "code",
   "execution_count": 396,
   "metadata": {},
   "outputs": [
    {
     "data": {
      "text/plain": [
       "1"
      ]
     },
     "execution_count": 396,
     "metadata": {},
     "output_type": "execute_result"
    }
   ],
   "source": [
    "df.loc[13, 'intension_135']"
   ]
  },
  {
   "cell_type": "code",
   "execution_count": 493,
   "metadata": {},
   "outputs": [],
   "source": [
    "intension_per_price = []    # 각 가격대별 구매의도 점수 리스트\n",
    "for i in range(len(df)):\n",
    "    tmp = [df.loc[i, 'intension_135'], df.loc[i, 'intension_155'], df.loc[i, 'intension_175']]\n",
    "    intension_per_price.append(tmp)\n",
    "\n",
    "# 사용자별 최고 구매의도 가격대 리스트\n",
    "maxprice_idx_list = []\n",
    "for each_list in intension_per_price:\n",
    "    tmp_max = max(each_list)\n",
    "    tmp_idx = 0\n",
    "    if tmp_max != 1:\n",
    "        for i, each_item in enumerate(each_list):\n",
    "            if each_item == tmp_max:\n",
    "                tmp_idx = i\n",
    "    else: tmp_idx = each_list.index(tmp_max)\n",
    "    if tmp_idx == 0: tmp_idx = \"135 ~ 155\"\n",
    "    elif tmp_idx == 1: tmp_idx = \"155 ~ 175\"\n",
    "    else: tmp_idx = \"175 ~ 195\"\n",
    "    maxprice_idx_list.append(tmp_idx)\n",
    "\n",
    "df['max_price_intension'] = maxprice_idx_list"
   ]
  },
  {
   "cell_type": "code",
   "execution_count": 501,
   "metadata": {},
   "outputs": [
    {
     "data": {
      "text/plain": [
       "['135 ~ 155', '135 ~ 155', '135 ~ 155', '135 ~ 155', '155 ~ 175']"
      ]
     },
     "execution_count": 501,
     "metadata": {},
     "output_type": "execute_result"
    }
   ],
   "source": [
    "maxprice_idx_list[:5]"
   ]
  },
  {
   "cell_type": "code",
   "execution_count": 514,
   "metadata": {},
   "outputs": [
    {
     "data": {
      "text/plain": [
       "[('135 ~ 155', 51), ('155 ~ 175', 10), ('175 ~ 195', 5)]"
      ]
     },
     "execution_count": 514,
     "metadata": {},
     "output_type": "execute_result"
    }
   ],
   "source": [
    "max_price_intension_list = dict(collections.Counter(df.max_price_intension))\n",
    "max_price_intension_list = sorted(max_price_intension_list.items())\n",
    "max_price_intension_list"
   ]
  },
  {
   "cell_type": "code",
   "execution_count": 544,
   "metadata": {},
   "outputs": [
    {
     "name": "stdout",
     "output_type": "stream",
     "text": [
      "[('135 ~ 155', 51), ('155 ~ 175', 10), ('175 ~ 195', 5)]\n"
     ]
    },
    {
     "data": {
      "image/png": "[encoded data removed]",
      "text/plain": [
       "<Figure size 432x288 with 1 Axes>"
      ]
     },
     "metadata": {
      "needs_background": "light"
     },
     "output_type": "display_data"
    }
   ],
   "source": [
    "import seaborn as sns\n",
    "\n",
    "x = [x[0] for x in max_price_intension_list]\n",
    "y = [x[1] for x in max_price_intension_list]\n",
    "sns.barplot(x=x, y=y)\n",
    "plt.title('max purchase intension')\n",
    "plt.yticks(np.arange(0, 61, 10))\n",
    "print(max_price_intension_list)\n",
    "plt.show()"
   ]
  },
  {
   "cell_type": "code",
   "execution_count": 532,
   "metadata": {},
   "outputs": [
    {
     "name": "stderr",
     "output_type": "stream",
     "text": [
      "/Users/hansuho/opt/anaconda3/lib/python3.8/site-packages/pandas/core/frame.py:4163: SettingWithCopyWarning: \n",
      "A value is trying to be set on a copy of a slice from a DataFrame\n",
      "\n",
      "See the caveats in the documentation: https://pandas.pydata.org/pandas-docs/stable/user_guide/indexing.html#returning-a-view-versus-a-copy\n",
      "  return super().drop(\n"
     ]
    }
   ],
   "source": [
    "apple = df[df['Manufacturer'] == 0]\n",
    "samsung = df[df['Manufacturer'] == 1]\n",
    "\n",
    "apple.reset_index(inplace=True)\n",
    "apple.drop(columns = 'index', inplace=True)\n",
    "samsung.reset_index(inplace=True)\n",
    "samsung.drop(columns = 'index', inplace=True)"
   ]
  },
  {
   "cell_type": "code",
   "execution_count": 542,
   "metadata": {},
   "outputs": [
    {
     "name": "stdout",
     "output_type": "stream",
     "text": [
      "[('135 ~ 155', 28), ('155 ~ 175', 8), ('175 ~ 195', 2)]\n"
     ]
    },
    {
     "data": {
      "image/png": "[encoded data removed]",
      "text/plain": [
       "<Figure size 432x288 with 1 Axes>"
      ]
     },
     "metadata": {
      "needs_background": "light"
     },
     "output_type": "display_data"
    },
    {
     "name": "stdout",
     "output_type": "stream",
     "text": [
      "\n",
      "[('135 ~ 155', 23), ('155 ~ 175', 2), ('175 ~ 195', 3)]\n"
     ]
    },
    {
     "data": {
      "image/png": "[encoded data removed]",
      "text/plain": [
       "<Figure size 432x288 with 1 Axes>"
      ]
     },
     "metadata": {
      "needs_background": "light"
     },
     "output_type": "display_data"
    }
   ],
   "source": [
    "max_price_intension_list_a = dict(collections.Counter(apple.max_price_intension))\n",
    "max_price_intension_list_a = sorted(max_price_intension_list_a.items())\n",
    "\n",
    "max_price_intension_list_s = dict(collections.Counter(samsung.max_price_intension))\n",
    "max_price_intension_list_s = sorted(max_price_intension_list_s.items())\n",
    "\n",
    "\n",
    "x_a = [x[0] for x in max_price_intension_list_a]\n",
    "y_a = [x[1] for x in max_price_intension_list_a]\n",
    "sns.barplot(x=x_a, y=y_a)\n",
    "plt.title(\"Apple User's max purchase intension\")\n",
    "plt.yticks(np.arange(0, 31, 5))\n",
    "print(max_price_intension_list_a)\n",
    "plt.show()\n",
    "print()\n",
    "\n",
    "x_s = [x[0] for x in max_price_intension_list_s]\n",
    "y_s = [x[1] for x in max_price_intension_list_s]\n",
    "sns.barplot(x=x_s, y=y_s)\n",
    "plt.title(\"Samsung User's max purchase intension\")\n",
    "plt.yticks(np.arange(0, 31, 5))\n",
    "print(max_price_intension_list_s)\n",
    "plt.show()"
   ]
  },
  {
   "cell_type": "code",
   "execution_count": null,
   "metadata": {},
   "outputs": [],
   "source": []
  }
 ],
 "metadata": {
  "kernelspec": {
   "display_name": "Python 3",
   "language": "python",
   "name": "python3"
  },
  "language_info": {
   "codemirror_mode": {
    "name": "ipython",
    "version": 3
   },
   "file_extension": ".py",
   "mimetype": "text/x-python",
   "name": "python",
   "nbconvert_exporter": "python",
   "pygments_lexer": "ipython3",
   "version": "3.8.2"
  }
 },
 "nbformat": 4,
 "nbformat_minor": 4
}
